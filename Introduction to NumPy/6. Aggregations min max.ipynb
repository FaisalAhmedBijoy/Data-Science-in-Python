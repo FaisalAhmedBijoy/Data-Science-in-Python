{
 "cells": [
  {
   "cell_type": "code",
   "execution_count": 1,
   "metadata": {},
   "outputs": [],
   "source": [
    "import numpy as np"
   ]
  },
  {
   "cell_type": "code",
   "execution_count": 3,
   "metadata": {},
   "outputs": [
    {
     "data": {
      "text/plain": [
       "array([2.09823973e-01, 9.34937183e-02, 4.27183414e-01, 6.95708599e-01,\n",
       "       1.20261899e-01, 8.23095102e-03, 8.82871573e-01, 8.29479296e-01,\n",
       "       2.34835438e-01, 2.90484180e-01, 6.87933515e-01, 6.24108510e-02,\n",
       "       5.76751138e-01, 3.91683059e-02, 1.54562626e-02, 7.57388166e-01,\n",
       "       5.33280624e-01, 6.94158883e-01, 9.92330101e-01, 4.56909516e-01,\n",
       "       1.66294192e-01, 9.49496229e-01, 2.87750991e-01, 1.52169573e-01,\n",
       "       1.60404064e-01, 6.19662645e-01, 1.18359885e-01, 9.53091212e-01,\n",
       "       3.75645726e-01, 2.54407031e-01, 8.61265342e-01, 5.53358478e-01,\n",
       "       5.88540879e-01, 5.29179672e-01, 3.33043865e-02, 5.78404943e-01,\n",
       "       1.26847840e-01, 5.34940773e-01, 5.43556412e-01, 5.71690801e-01,\n",
       "       4.18988390e-02, 1.78944623e-01, 7.84709462e-01, 7.60517293e-01,\n",
       "       6.28662182e-01, 8.99170019e-01, 3.05777312e-01, 7.73343776e-01,\n",
       "       6.99260851e-01, 4.28249466e-01, 4.11858635e-01, 1.96095638e-01,\n",
       "       2.64947951e-01, 4.77037822e-02, 4.08484490e-01, 1.95356053e-01,\n",
       "       5.65622625e-01, 1.77512310e-01, 5.30846629e-01, 2.55544110e-01,\n",
       "       2.52985092e-01, 3.96418796e-02, 3.12056974e-01, 3.26210425e-02,\n",
       "       2.38480749e-01, 1.21046456e-01, 2.06318754e-01, 2.33313352e-04,\n",
       "       6.09022176e-02, 8.75446243e-01, 5.42541661e-01, 5.54967014e-01,\n",
       "       8.85101364e-01, 4.91992362e-01, 7.14972909e-01, 9.54797596e-01,\n",
       "       5.45808235e-01, 4.83886537e-01, 9.22651583e-01, 6.93370515e-01,\n",
       "       7.99687025e-01, 5.66916278e-01, 9.59576721e-01, 7.82666350e-01,\n",
       "       4.82094524e-01, 3.53398213e-01, 9.70825652e-01, 2.03578605e-01,\n",
       "       9.54745130e-01, 5.35341639e-01, 4.64512647e-01, 3.15274678e-01,\n",
       "       1.80183873e-01, 5.48655805e-01, 8.15099329e-02, 4.26496298e-01,\n",
       "       5.37461375e-01, 3.63318573e-01, 6.91489259e-01, 3.15733773e-01])"
      ]
     },
     "execution_count": 3,
     "metadata": {},
     "output_type": "execute_result"
    }
   ],
   "source": [
    "L=np.random.random(100)\n",
    "L"
   ]
  },
  {
   "cell_type": "code",
   "execution_count": 4,
   "metadata": {},
   "outputs": [
    {
     "data": {
      "text/plain": [
       "45.58432637144494"
      ]
     },
     "execution_count": 4,
     "metadata": {},
     "output_type": "execute_result"
    }
   ],
   "source": [
    "sum(L)"
   ]
  },
  {
   "cell_type": "code",
   "execution_count": 5,
   "metadata": {},
   "outputs": [
    {
     "data": {
      "text/plain": [
       "45.58432637144493"
      ]
     },
     "execution_count": 5,
     "metadata": {},
     "output_type": "execute_result"
    }
   ],
   "source": [
    "np.sum(L)"
   ]
  },
  {
   "cell_type": "code",
   "execution_count": 6,
   "metadata": {},
   "outputs": [
    {
     "data": {
      "text/plain": [
       "49976.64777696323"
      ]
     },
     "execution_count": 6,
     "metadata": {},
     "output_type": "execute_result"
    }
   ],
   "source": [
    "big_array=np.random.rand(100000)\n",
    "sum(big_array)"
   ]
  },
  {
   "cell_type": "code",
   "execution_count": 7,
   "metadata": {
    "scrolled": true
   },
   "outputs": [
    {
     "name": "stdout",
     "output_type": "stream",
     "text": [
      "26.5 ms ± 886 µs per loop (mean ± std. dev. of 7 runs, 10 loops each)\n",
      "217 µs ± 3.68 µs per loop (mean ± std. dev. of 7 runs, 1000 loops each)\n"
     ]
    }
   ],
   "source": [
    "%timeit sum(big_array)\n",
    "%timeit np.sum(big_array)"
   ]
  },
  {
   "cell_type": "code",
   "execution_count": 8,
   "metadata": {},
   "outputs": [
    {
     "data": {
      "text/plain": [
       "(1.678223765289033e-06, 0.9999959831250976)"
      ]
     },
     "execution_count": 8,
     "metadata": {},
     "output_type": "execute_result"
    }
   ],
   "source": [
    "np.min(big_array) ,max(big_array)"
   ]
  },
  {
   "cell_type": "code",
   "execution_count": 9,
   "metadata": {},
   "outputs": [
    {
     "name": "stdout",
     "output_type": "stream",
     "text": [
      "20.4 ms ± 2.27 ms per loop (mean ± std. dev. of 7 runs, 100 loops each)\n",
      "208 µs ± 8.49 µs per loop (mean ± std. dev. of 7 runs, 1000 loops each)\n"
     ]
    }
   ],
   "source": [
    "%timeit max(big_array)\n",
    "%timeit np.max(big_array)"
   ]
  },
  {
   "cell_type": "markdown",
   "metadata": {},
   "source": [
    "# Multidimentional aggregates"
   ]
  },
  {
   "cell_type": "code",
   "execution_count": 15,
   "metadata": {},
   "outputs": [
    {
     "data": {
      "text/plain": [
       "array([[2, 8, 8, 4],\n",
       "       [5, 1, 5, 3],\n",
       "       [2, 7, 4, 2]])"
      ]
     },
     "execution_count": 15,
     "metadata": {},
     "output_type": "execute_result"
    }
   ],
   "source": [
    "M=np.random.randint(1,10,(3,4))\n",
    "M"
   ]
  },
  {
   "cell_type": "code",
   "execution_count": 16,
   "metadata": {},
   "outputs": [
    {
     "data": {
      "text/plain": [
       "51"
      ]
     },
     "execution_count": 16,
     "metadata": {},
     "output_type": "execute_result"
    }
   ],
   "source": [
    "M.sum()"
   ]
  },
  {
   "cell_type": "code",
   "execution_count": 21,
   "metadata": {},
   "outputs": [
    {
     "data": {
      "text/plain": [
       "array([2, 1, 4, 2])"
      ]
     },
     "execution_count": 21,
     "metadata": {},
     "output_type": "execute_result"
    }
   ],
   "source": [
    "M.min(axis=0) # min in col"
   ]
  },
  {
   "cell_type": "code",
   "execution_count": 20,
   "metadata": {},
   "outputs": [
    {
     "data": {
      "text/plain": [
       "array([2, 1, 2])"
      ]
     },
     "execution_count": 20,
     "metadata": {},
     "output_type": "execute_result"
    }
   ],
   "source": [
    "M.min(axis=1) # min in row"
   ]
  },
  {
   "cell_type": "code",
   "execution_count": 24,
   "metadata": {},
   "outputs": [
    {
     "data": {
      "text/plain": [
       "array([5, 8, 8, 4])"
      ]
     },
     "execution_count": 24,
     "metadata": {},
     "output_type": "execute_result"
    }
   ],
   "source": [
    "M.max(axis=0)"
   ]
  }
 ],
 "metadata": {
  "kernelspec": {
   "display_name": "Python 3",
   "language": "python",
   "name": "python3"
  },
  "language_info": {
   "codemirror_mode": {
    "name": "ipython",
    "version": 3
   },
   "file_extension": ".py",
   "mimetype": "text/x-python",
   "name": "python",
   "nbconvert_exporter": "python",
   "pygments_lexer": "ipython3",
   "version": "3.7.3"
  }
 },
 "nbformat": 4,
 "nbformat_minor": 2
}
