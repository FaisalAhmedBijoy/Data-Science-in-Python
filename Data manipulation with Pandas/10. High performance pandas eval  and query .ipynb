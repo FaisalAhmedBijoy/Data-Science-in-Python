{
 "cells": [
  {
   "cell_type": "markdown",
   "metadata": {},
   "source": [
    "# Pandas : eval () and query ()"
   ]
  },
  {
   "cell_type": "markdown",
   "metadata": {},
   "source": [
    "As of version 0.13 (released January 2014), Pandas includes some experimental tools that allow you to directly access C-speed operations without costly allocation of intermediate arrays. These are the eval() and query() functions, which rely on the Numexpr package."
   ]
  },
  {
   "cell_type": "markdown",
   "metadata": {},
   "source": [
    "# Compound expression"
   ]
  },
  {
   "cell_type": "code",
   "execution_count": 6,
   "metadata": {
    "scrolled": true
   },
   "outputs": [
    {
     "name": "stdout",
     "output_type": "stream",
     "text": [
      "[0.37454012 0.95071431 0.73199394]\n",
      "[0.59865848 0.15601864 0.15599452]\n",
      "1.18 µs ± 39.8 ns per loop (mean ± std. dev. of 7 runs, 1000000 loops each)\n"
     ]
    }
   ],
   "source": [
    "import numpy as np\n",
    "rng=np.random.RandomState(42)\n",
    "x=rng.rand(3)\n",
    "y=rng.rand(3)\n",
    "print(x)\n",
    "print(y)\n",
    "%timeit x+y"
   ]
  },
  {
   "cell_type": "code",
   "execution_count": 8,
   "metadata": {},
   "outputs": [
    {
     "name": "stdout",
     "output_type": "stream",
     "text": [
      "6.81 µs ± 331 ns per loop (mean ± std. dev. of 7 runs, 100000 loops each)\n"
     ]
    }
   ],
   "source": [
    "#this is much faster than doing the addition via a Python loop or comprehension\n",
    "%timeit np.fromiter ((xi + yi for xi,yi in zip (x,y)),dtype=x.dtype,count=len(x))"
   ]
  },
  {
   "cell_type": "code",
   "execution_count": 9,
   "metadata": {},
   "outputs": [
    {
     "data": {
      "text/plain": [
       "array([False,  True,  True])"
      ]
     },
     "execution_count": 9,
     "metadata": {},
     "output_type": "execute_result"
    }
   ],
   "source": [
    "# this abstraction can become less efficient \n",
    "# when computing compound expression\n",
    "mask=(x >0.5 ) & (y<0.5)\n",
    "mask"
   ]
  },
  {
   "cell_type": "code",
   "execution_count": 11,
   "metadata": {},
   "outputs": [
    {
     "data": {
      "text/plain": [
       "array([False,  True,  True])"
      ]
     },
     "execution_count": 11,
     "metadata": {},
     "output_type": "execute_result"
    }
   ],
   "source": [
    "tmp1=(x>0.5)\n",
    "tmp2=(y<0.5)\n",
    "mask = tmp1 & tmp2\n",
    "mask"
   ]
  },
  {
   "cell_type": "markdown",
   "metadata": {},
   "source": [
    "In other words, every intermediate step is explicitly allocated in memory. If the x and y arrays are very large, this can lead to significant memory and computational overhead. The Numexpr library gives you the ability to compute this type of compound expression element by element, without the need to allocate full intermediate arrays. The <b>Numexpr documentation</b> has more details, but for the time being it is sufficient to say that the library accepts a string giving the NumPy-style expression you’d like to compute:\n"
   ]
  },
  {
   "cell_type": "code",
   "execution_count": 12,
   "metadata": {
    "scrolled": true
   },
   "outputs": [
    {
     "name": "stdout",
     "output_type": "stream",
     "text": [
      "[False  True  True]\n"
     ]
    },
    {
     "data": {
      "text/plain": [
       "True"
      ]
     },
     "execution_count": 12,
     "metadata": {},
     "output_type": "execute_result"
    }
   ],
   "source": [
    "import numexpr\n",
    "mask_numexpr=numexpr.evaluate('(x > 0.5 ) & (y < 0.5 )')\n",
    "print(mask_numexpr)\n",
    "np.allclose(mask,mask_numexpr)"
   ]
  },
  {
   "cell_type": "markdown",
   "metadata": {},
   "source": [
    "The benefit here is that Numexpr evaluates the expression in a way that does not use full-sized temporary arrays, and thus can be much more efficient than NumPy, especially for large arrays."
   ]
  },
  {
   "cell_type": "markdown",
   "metadata": {},
   "source": [
    "## Pandas.eval () for efficient operation"
   ]
  },
  {
   "cell_type": "code",
   "execution_count": 18,
   "metadata": {
    "scrolled": true
   },
   "outputs": [
    {
     "data": {
      "text/html": [
       "<div>\n",
       "<style scoped>\n",
       "    .dataframe tbody tr th:only-of-type {\n",
       "        vertical-align: middle;\n",
       "    }\n",
       "\n",
       "    .dataframe tbody tr th {\n",
       "        vertical-align: top;\n",
       "    }\n",
       "\n",
       "    .dataframe thead th {\n",
       "        text-align: right;\n",
       "    }\n",
       "</style>\n",
       "<table border=\"1\" class=\"dataframe\">\n",
       "  <thead>\n",
       "    <tr style=\"text-align: right;\">\n",
       "      <th></th>\n",
       "      <th>0</th>\n",
       "      <th>1</th>\n",
       "      <th>2</th>\n",
       "      <th>3</th>\n",
       "      <th>4</th>\n",
       "      <th>5</th>\n",
       "      <th>6</th>\n",
       "      <th>7</th>\n",
       "      <th>8</th>\n",
       "      <th>9</th>\n",
       "      <th>...</th>\n",
       "      <th>90</th>\n",
       "      <th>91</th>\n",
       "      <th>92</th>\n",
       "      <th>93</th>\n",
       "      <th>94</th>\n",
       "      <th>95</th>\n",
       "      <th>96</th>\n",
       "      <th>97</th>\n",
       "      <th>98</th>\n",
       "      <th>99</th>\n",
       "    </tr>\n",
       "  </thead>\n",
       "  <tbody>\n",
       "    <tr>\n",
       "      <th>0</th>\n",
       "      <td>0.374540</td>\n",
       "      <td>0.950714</td>\n",
       "      <td>0.731994</td>\n",
       "      <td>0.598658</td>\n",
       "      <td>0.156019</td>\n",
       "      <td>0.155995</td>\n",
       "      <td>0.058084</td>\n",
       "      <td>0.866176</td>\n",
       "      <td>0.601115</td>\n",
       "      <td>0.708073</td>\n",
       "      <td>...</td>\n",
       "      <td>0.119594</td>\n",
       "      <td>0.713245</td>\n",
       "      <td>0.760785</td>\n",
       "      <td>0.561277</td>\n",
       "      <td>0.770967</td>\n",
       "      <td>0.493796</td>\n",
       "      <td>0.522733</td>\n",
       "      <td>0.427541</td>\n",
       "      <td>0.025419</td>\n",
       "      <td>0.107891</td>\n",
       "    </tr>\n",
       "    <tr>\n",
       "      <th>1</th>\n",
       "      <td>0.031429</td>\n",
       "      <td>0.636410</td>\n",
       "      <td>0.314356</td>\n",
       "      <td>0.508571</td>\n",
       "      <td>0.907566</td>\n",
       "      <td>0.249292</td>\n",
       "      <td>0.410383</td>\n",
       "      <td>0.755551</td>\n",
       "      <td>0.228798</td>\n",
       "      <td>0.076980</td>\n",
       "      <td>...</td>\n",
       "      <td>0.093103</td>\n",
       "      <td>0.897216</td>\n",
       "      <td>0.900418</td>\n",
       "      <td>0.633101</td>\n",
       "      <td>0.339030</td>\n",
       "      <td>0.349210</td>\n",
       "      <td>0.725956</td>\n",
       "      <td>0.897110</td>\n",
       "      <td>0.887086</td>\n",
       "      <td>0.779876</td>\n",
       "    </tr>\n",
       "    <tr>\n",
       "      <th>2</th>\n",
       "      <td>0.642032</td>\n",
       "      <td>0.084140</td>\n",
       "      <td>0.161629</td>\n",
       "      <td>0.898554</td>\n",
       "      <td>0.606429</td>\n",
       "      <td>0.009197</td>\n",
       "      <td>0.101472</td>\n",
       "      <td>0.663502</td>\n",
       "      <td>0.005062</td>\n",
       "      <td>0.160808</td>\n",
       "      <td>...</td>\n",
       "      <td>0.030500</td>\n",
       "      <td>0.037348</td>\n",
       "      <td>0.822601</td>\n",
       "      <td>0.360191</td>\n",
       "      <td>0.127061</td>\n",
       "      <td>0.522243</td>\n",
       "      <td>0.769994</td>\n",
       "      <td>0.215821</td>\n",
       "      <td>0.622890</td>\n",
       "      <td>0.085347</td>\n",
       "    </tr>\n",
       "    <tr>\n",
       "      <th>3</th>\n",
       "      <td>0.051682</td>\n",
       "      <td>0.531355</td>\n",
       "      <td>0.540635</td>\n",
       "      <td>0.637430</td>\n",
       "      <td>0.726091</td>\n",
       "      <td>0.975852</td>\n",
       "      <td>0.516300</td>\n",
       "      <td>0.322956</td>\n",
       "      <td>0.795186</td>\n",
       "      <td>0.270832</td>\n",
       "      <td>...</td>\n",
       "      <td>0.990505</td>\n",
       "      <td>0.412618</td>\n",
       "      <td>0.372018</td>\n",
       "      <td>0.776413</td>\n",
       "      <td>0.340804</td>\n",
       "      <td>0.930757</td>\n",
       "      <td>0.858413</td>\n",
       "      <td>0.428994</td>\n",
       "      <td>0.750871</td>\n",
       "      <td>0.754543</td>\n",
       "    </tr>\n",
       "    <tr>\n",
       "      <th>4</th>\n",
       "      <td>0.103124</td>\n",
       "      <td>0.902553</td>\n",
       "      <td>0.505252</td>\n",
       "      <td>0.826457</td>\n",
       "      <td>0.320050</td>\n",
       "      <td>0.895523</td>\n",
       "      <td>0.389202</td>\n",
       "      <td>0.010838</td>\n",
       "      <td>0.905382</td>\n",
       "      <td>0.091287</td>\n",
       "      <td>...</td>\n",
       "      <td>0.455657</td>\n",
       "      <td>0.620133</td>\n",
       "      <td>0.277381</td>\n",
       "      <td>0.188121</td>\n",
       "      <td>0.463698</td>\n",
       "      <td>0.353352</td>\n",
       "      <td>0.583656</td>\n",
       "      <td>0.077735</td>\n",
       "      <td>0.974395</td>\n",
       "      <td>0.986211</td>\n",
       "    </tr>\n",
       "  </tbody>\n",
       "</table>\n",
       "<p>5 rows × 100 columns</p>\n",
       "</div>"
      ],
      "text/plain": [
       "         0         1         2         3         4         5         6   \\\n",
       "0  0.374540  0.950714  0.731994  0.598658  0.156019  0.155995  0.058084   \n",
       "1  0.031429  0.636410  0.314356  0.508571  0.907566  0.249292  0.410383   \n",
       "2  0.642032  0.084140  0.161629  0.898554  0.606429  0.009197  0.101472   \n",
       "3  0.051682  0.531355  0.540635  0.637430  0.726091  0.975852  0.516300   \n",
       "4  0.103124  0.902553  0.505252  0.826457  0.320050  0.895523  0.389202   \n",
       "\n",
       "         7         8         9   ...        90        91        92        93  \\\n",
       "0  0.866176  0.601115  0.708073  ...  0.119594  0.713245  0.760785  0.561277   \n",
       "1  0.755551  0.228798  0.076980  ...  0.093103  0.897216  0.900418  0.633101   \n",
       "2  0.663502  0.005062  0.160808  ...  0.030500  0.037348  0.822601  0.360191   \n",
       "3  0.322956  0.795186  0.270832  ...  0.990505  0.412618  0.372018  0.776413   \n",
       "4  0.010838  0.905382  0.091287  ...  0.455657  0.620133  0.277381  0.188121   \n",
       "\n",
       "         94        95        96        97        98        99  \n",
       "0  0.770967  0.493796  0.522733  0.427541  0.025419  0.107891  \n",
       "1  0.339030  0.349210  0.725956  0.897110  0.887086  0.779876  \n",
       "2  0.127061  0.522243  0.769994  0.215821  0.622890  0.085347  \n",
       "3  0.340804  0.930757  0.858413  0.428994  0.750871  0.754543  \n",
       "4  0.463698  0.353352  0.583656  0.077735  0.974395  0.986211  \n",
       "\n",
       "[5 rows x 100 columns]"
      ]
     },
     "execution_count": 18,
     "metadata": {},
     "output_type": "execute_result"
    }
   ],
   "source": [
    "# eval() in pandas use string expression effiently compute operation using DataFrame\n",
    "import pandas as pd\n",
    "nrows,ncols=100000,100\n",
    "rng=np.random.RandomState(42)\n",
    "df1,df2,df3,df4=(pd.DataFrame(rng.rand(nrows,ncols))\n",
    "                for i in range(4))\n",
    "\n",
    "df1.head()"
   ]
  },
  {
   "cell_type": "code",
   "execution_count": 19,
   "metadata": {},
   "outputs": [
    {
     "name": "stdout",
     "output_type": "stream",
     "text": [
      "394 ms ± 7.3 ms per loop (mean ± std. dev. of 7 runs, 1 loop each)\n"
     ]
    }
   ],
   "source": [
    "# compute sum using typical pandas approach\n",
    "%timeit df1+df2+df3+df4"
   ]
  },
  {
   "cell_type": "code",
   "execution_count": 20,
   "metadata": {},
   "outputs": [
    {
     "name": "stdout",
     "output_type": "stream",
     "text": [
      "200 ms ± 16 ms per loop (mean ± std. dev. of 7 runs, 10 loops each)\n"
     ]
    }
   ],
   "source": [
    "# compute result via pd.eval\n",
    "%timeit pd.eval('df2+df2+df3+df4')"
   ]
  },
  {
   "cell_type": "code",
   "execution_count": 21,
   "metadata": {
    "scrolled": false
   },
   "outputs": [
    {
     "data": {
      "text/plain": [
       "True"
      ]
     },
     "execution_count": 21,
     "metadata": {},
     "output_type": "execute_result"
    }
   ],
   "source": [
    "# eval() is 50 % faster and less memory\n",
    "np.allclose(df1+df2+df3+df4,pd.eval('df1+df2+df3+df4'))"
   ]
  },
  {
   "cell_type": "code",
   "execution_count": 24,
   "metadata": {},
   "outputs": [
    {
     "data": {
      "text/html": [
       "<div>\n",
       "<style scoped>\n",
       "    .dataframe tbody tr th:only-of-type {\n",
       "        vertical-align: middle;\n",
       "    }\n",
       "\n",
       "    .dataframe tbody tr th {\n",
       "        vertical-align: top;\n",
       "    }\n",
       "\n",
       "    .dataframe thead th {\n",
       "        text-align: right;\n",
       "    }\n",
       "</style>\n",
       "<table border=\"1\" class=\"dataframe\">\n",
       "  <thead>\n",
       "    <tr style=\"text-align: right;\">\n",
       "      <th></th>\n",
       "      <th>0</th>\n",
       "      <th>1</th>\n",
       "      <th>2</th>\n",
       "    </tr>\n",
       "  </thead>\n",
       "  <tbody>\n",
       "    <tr>\n",
       "      <th>0</th>\n",
       "      <td>710</td>\n",
       "      <td>676</td>\n",
       "      <td>749</td>\n",
       "    </tr>\n",
       "    <tr>\n",
       "      <th>1</th>\n",
       "      <td>813</td>\n",
       "      <td>241</td>\n",
       "      <td>915</td>\n",
       "    </tr>\n",
       "    <tr>\n",
       "      <th>2</th>\n",
       "      <td>421</td>\n",
       "      <td>476</td>\n",
       "      <td>480</td>\n",
       "    </tr>\n",
       "    <tr>\n",
       "      <th>3</th>\n",
       "      <td>850</td>\n",
       "      <td>463</td>\n",
       "      <td>934</td>\n",
       "    </tr>\n",
       "    <tr>\n",
       "      <th>4</th>\n",
       "      <td>347</td>\n",
       "      <td>522</td>\n",
       "      <td>819</td>\n",
       "    </tr>\n",
       "  </tbody>\n",
       "</table>\n",
       "</div>"
      ],
      "text/plain": [
       "     0    1    2\n",
       "0  710  676  749\n",
       "1  813  241  915\n",
       "2  421  476  480\n",
       "3  850  463  934\n",
       "4  347  522  819"
      ]
     },
     "execution_count": 24,
     "metadata": {},
     "output_type": "execute_result"
    }
   ],
   "source": [
    "# operation supported by pd.eval()\n",
    "df1, df2, df3, df4, df5 = (pd.DataFrame(rng.randint(0, 1000, (100, 3)))\n",
    "                           for i in range(5))\n",
    "df1.head()"
   ]
  },
  {
   "cell_type": "code",
   "execution_count": 25,
   "metadata": {},
   "outputs": [
    {
     "data": {
      "text/plain": [
       "True"
      ]
     },
     "execution_count": 25,
     "metadata": {},
     "output_type": "execute_result"
    }
   ],
   "source": [
    "# arithmetic operatiors\n",
    "result1 = -df1 * df2 / (df3 + df4) - df5\n",
    "result2 = pd.eval('-df1 * df2 / (df3 + df4) - df5')\n",
    "np.allclose(result1, result2)\n"
   ]
  },
  {
   "cell_type": "code",
   "execution_count": 26,
   "metadata": {},
   "outputs": [
    {
     "data": {
      "text/plain": [
       "True"
      ]
     },
     "execution_count": 26,
     "metadata": {},
     "output_type": "execute_result"
    }
   ],
   "source": [
    "# comparsion ,bitwise ,object attributes and indices also possible\n",
    "result1 = df2.T[0] + df3.iloc[1]\n",
    "result2 = pd.eval('df2.T[0] + df3.iloc[1]')\n",
    "np.allclose(result1, result2)\n"
   ]
  },
  {
   "cell_type": "code",
   "execution_count": 28,
   "metadata": {
    "scrolled": true
   },
   "outputs": [
    {
     "data": {
      "text/html": [
       "<div>\n",
       "<style scoped>\n",
       "    .dataframe tbody tr th:only-of-type {\n",
       "        vertical-align: middle;\n",
       "    }\n",
       "\n",
       "    .dataframe tbody tr th {\n",
       "        vertical-align: top;\n",
       "    }\n",
       "\n",
       "    .dataframe thead th {\n",
       "        text-align: right;\n",
       "    }\n",
       "</style>\n",
       "<table border=\"1\" class=\"dataframe\">\n",
       "  <thead>\n",
       "    <tr style=\"text-align: right;\">\n",
       "      <th></th>\n",
       "      <th>A</th>\n",
       "      <th>B</th>\n",
       "      <th>C</th>\n",
       "    </tr>\n",
       "  </thead>\n",
       "  <tbody>\n",
       "    <tr>\n",
       "      <th>0</th>\n",
       "      <td>0.401791</td>\n",
       "      <td>0.973228</td>\n",
       "      <td>0.005811</td>\n",
       "    </tr>\n",
       "    <tr>\n",
       "      <th>1</th>\n",
       "      <td>0.453365</td>\n",
       "      <td>0.715901</td>\n",
       "      <td>0.635402</td>\n",
       "    </tr>\n",
       "    <tr>\n",
       "      <th>2</th>\n",
       "      <td>0.171049</td>\n",
       "      <td>0.175610</td>\n",
       "      <td>0.004500</td>\n",
       "    </tr>\n",
       "    <tr>\n",
       "      <th>3</th>\n",
       "      <td>0.254660</td>\n",
       "      <td>0.513748</td>\n",
       "      <td>0.754389</td>\n",
       "    </tr>\n",
       "    <tr>\n",
       "      <th>4</th>\n",
       "      <td>0.897135</td>\n",
       "      <td>0.649130</td>\n",
       "      <td>0.368049</td>\n",
       "    </tr>\n",
       "  </tbody>\n",
       "</table>\n",
       "</div>"
      ],
      "text/plain": [
       "          A         B         C\n",
       "0  0.401791  0.973228  0.005811\n",
       "1  0.453365  0.715901  0.635402\n",
       "2  0.171049  0.175610  0.004500\n",
       "3  0.254660  0.513748  0.754389\n",
       "4  0.897135  0.649130  0.368049"
      ]
     },
     "execution_count": 28,
     "metadata": {},
     "output_type": "execute_result"
    }
   ],
   "source": [
    "# DataFrame.eval() for column-wise operation\n",
    "# The benefit of the eval() method is that columns can be referred to by name. \n",
    "df=pd.DataFrame(rng.rand(1000,3),columns=['A','B','C'])\n",
    "df.head()"
   ]
  },
  {
   "cell_type": "code",
   "execution_count": 30,
   "metadata": {},
   "outputs": [
    {
     "data": {
      "text/plain": [
       "True"
      ]
     },
     "execution_count": 30,
     "metadata": {},
     "output_type": "execute_result"
    }
   ],
   "source": [
    "# pd.eval() compute expression within three columns\n",
    "result1 = (df['A'] + df['B']) / (df['C'] - 1)\n",
    "result2 = pd.eval(\"(df.A + df.B) / (df.C - 1)\")\n",
    "np.allclose(result1, result2)\n",
    "\n"
   ]
  },
  {
   "cell_type": "code",
   "execution_count": 31,
   "metadata": {},
   "outputs": [
    {
     "data": {
      "text/plain": [
       "True"
      ]
     },
     "execution_count": 31,
     "metadata": {},
     "output_type": "execute_result"
    }
   ],
   "source": [
    "# DataFrame.eval () method allow much more succinct evaluation\n",
    "result3 = df.eval('(A + B) / (C - 1)')\n",
    "np.allclose(result1, result3)\n"
   ]
  },
  {
   "cell_type": "code",
   "execution_count": 32,
   "metadata": {
    "scrolled": true
   },
   "outputs": [
    {
     "data": {
      "text/html": [
       "<div>\n",
       "<style scoped>\n",
       "    .dataframe tbody tr th:only-of-type {\n",
       "        vertical-align: middle;\n",
       "    }\n",
       "\n",
       "    .dataframe tbody tr th {\n",
       "        vertical-align: top;\n",
       "    }\n",
       "\n",
       "    .dataframe thead th {\n",
       "        text-align: right;\n",
       "    }\n",
       "</style>\n",
       "<table border=\"1\" class=\"dataframe\">\n",
       "  <thead>\n",
       "    <tr style=\"text-align: right;\">\n",
       "      <th></th>\n",
       "      <th>A</th>\n",
       "      <th>B</th>\n",
       "      <th>C</th>\n",
       "      <th>D</th>\n",
       "    </tr>\n",
       "  </thead>\n",
       "  <tbody>\n",
       "    <tr>\n",
       "      <th>0</th>\n",
       "      <td>0.401791</td>\n",
       "      <td>0.973228</td>\n",
       "      <td>0.005811</td>\n",
       "      <td>236.627079</td>\n",
       "    </tr>\n",
       "    <tr>\n",
       "      <th>1</th>\n",
       "      <td>0.453365</td>\n",
       "      <td>0.715901</td>\n",
       "      <td>0.635402</td>\n",
       "      <td>1.840199</td>\n",
       "    </tr>\n",
       "    <tr>\n",
       "      <th>2</th>\n",
       "      <td>0.171049</td>\n",
       "      <td>0.175610</td>\n",
       "      <td>0.004500</td>\n",
       "      <td>77.033882</td>\n",
       "    </tr>\n",
       "    <tr>\n",
       "      <th>3</th>\n",
       "      <td>0.254660</td>\n",
       "      <td>0.513748</td>\n",
       "      <td>0.754389</td>\n",
       "      <td>1.018584</td>\n",
       "    </tr>\n",
       "    <tr>\n",
       "      <th>4</th>\n",
       "      <td>0.897135</td>\n",
       "      <td>0.649130</td>\n",
       "      <td>0.368049</td>\n",
       "      <td>4.201252</td>\n",
       "    </tr>\n",
       "  </tbody>\n",
       "</table>\n",
       "</div>"
      ],
      "text/plain": [
       "          A         B         C           D\n",
       "0  0.401791  0.973228  0.005811  236.627079\n",
       "1  0.453365  0.715901  0.635402    1.840199\n",
       "2  0.171049  0.175610  0.004500   77.033882\n",
       "3  0.254660  0.513748  0.754389    1.018584\n",
       "4  0.897135  0.649130  0.368049    4.201252"
      ]
     },
     "execution_count": 32,
     "metadata": {},
     "output_type": "execute_result"
    }
   ],
   "source": [
    "'''\n",
    "we can use df.eval() to create a new column 'D' and assign to it\n",
    "a value computed from other columns\n",
    "'''\n",
    "df.eval('D=(A+B)/C',inplace=True)\n",
    "df.head()"
   ]
  },
  {
   "cell_type": "code",
   "execution_count": 33,
   "metadata": {
    "scrolled": false
   },
   "outputs": [
    {
     "data": {
      "text/html": [
       "<div>\n",
       "<style scoped>\n",
       "    .dataframe tbody tr th:only-of-type {\n",
       "        vertical-align: middle;\n",
       "    }\n",
       "\n",
       "    .dataframe tbody tr th {\n",
       "        vertical-align: top;\n",
       "    }\n",
       "\n",
       "    .dataframe thead th {\n",
       "        text-align: right;\n",
       "    }\n",
       "</style>\n",
       "<table border=\"1\" class=\"dataframe\">\n",
       "  <thead>\n",
       "    <tr style=\"text-align: right;\">\n",
       "      <th></th>\n",
       "      <th>A</th>\n",
       "      <th>B</th>\n",
       "      <th>C</th>\n",
       "      <th>D</th>\n",
       "    </tr>\n",
       "  </thead>\n",
       "  <tbody>\n",
       "    <tr>\n",
       "      <th>0</th>\n",
       "      <td>0.401791</td>\n",
       "      <td>0.973228</td>\n",
       "      <td>0.005811</td>\n",
       "      <td>-98.338660</td>\n",
       "    </tr>\n",
       "    <tr>\n",
       "      <th>1</th>\n",
       "      <td>0.453365</td>\n",
       "      <td>0.715901</td>\n",
       "      <td>0.635402</td>\n",
       "      <td>-0.413181</td>\n",
       "    </tr>\n",
       "    <tr>\n",
       "      <th>2</th>\n",
       "      <td>0.171049</td>\n",
       "      <td>0.175610</td>\n",
       "      <td>0.004500</td>\n",
       "      <td>-1.013469</td>\n",
       "    </tr>\n",
       "    <tr>\n",
       "      <th>3</th>\n",
       "      <td>0.254660</td>\n",
       "      <td>0.513748</td>\n",
       "      <td>0.754389</td>\n",
       "      <td>-0.343441</td>\n",
       "    </tr>\n",
       "    <tr>\n",
       "      <th>4</th>\n",
       "      <td>0.897135</td>\n",
       "      <td>0.649130</td>\n",
       "      <td>0.368049</td>\n",
       "      <td>0.673837</td>\n",
       "    </tr>\n",
       "  </tbody>\n",
       "</table>\n",
       "</div>"
      ],
      "text/plain": [
       "          A         B         C          D\n",
       "0  0.401791  0.973228  0.005811 -98.338660\n",
       "1  0.453365  0.715901  0.635402  -0.413181\n",
       "2  0.171049  0.175610  0.004500  -1.013469\n",
       "3  0.254660  0.513748  0.754389  -0.343441\n",
       "4  0.897135  0.649130  0.368049   0.673837"
      ]
     },
     "execution_count": 33,
     "metadata": {},
     "output_type": "execute_result"
    }
   ],
   "source": [
    "# in the same way, any existing column can be modified\n",
    "df.eval('D=(A-B)/C',inplace=True)\n",
    "df.head()"
   ]
  },
  {
   "cell_type": "code",
   "execution_count": 36,
   "metadata": {},
   "outputs": [
    {
     "data": {
      "text/plain": [
       "True"
      ]
     },
     "execution_count": 36,
     "metadata": {},
     "output_type": "execute_result"
    }
   ],
   "source": [
    "# local variable in DataFrame.eval()\n",
    "column_mean = df.mean(1)\n",
    "\n",
    "result1 = df['A'] + column_mean\n",
    "result2 = df.eval('A + @column_mean')\n",
    "np.allclose(result1, result2)\n"
   ]
  },
  {
   "cell_type": "markdown",
   "metadata": {},
   "source": [
    "## DataFrame.query () Method"
   ]
  },
  {
   "cell_type": "code",
   "execution_count": 38,
   "metadata": {},
   "outputs": [
    {
     "data": {
      "text/plain": [
       "True"
      ]
     },
     "execution_count": 38,
     "metadata": {},
     "output_type": "execute_result"
    }
   ],
   "source": [
    "result1 = df[(df.A < 0.5) & (df.B < 0.5)]\n",
    "result2 = pd.eval('df[(df.A < 0.5) & (df.B < 0.5)]')\n",
    "np.allclose(result1, result2)\n"
   ]
  },
  {
   "cell_type": "code",
   "execution_count": 39,
   "metadata": {},
   "outputs": [
    {
     "data": {
      "text/plain": [
       "True"
      ]
     },
     "execution_count": 39,
     "metadata": {},
     "output_type": "execute_result"
    }
   ],
   "source": [
    "# use filtering operation\n",
    "result2 = df.query('A < 0.5 and B < 0.5')\n",
    "np.allclose(result1, result2)\n"
   ]
  },
  {
   "cell_type": "markdown",
   "metadata": {},
   "source": [
    "## Perfomance : when to use these functions"
   ]
  },
  {
   "cell_type": "markdown",
   "metadata": {},
   "source": [
    "When considering whether to use these functions, there are two considerations: computation time and memory use. Memory use is the most predictable aspect. As already mentioned, every compound expression involving NumPy arrays or Pandas Data Frames will result in implicit creation of temporary arrays"
   ]
  },
  {
   "cell_type": "code",
   "execution_count": 42,
   "metadata": {},
   "outputs": [
    {
     "data": {
      "text/html": [
       "<div>\n",
       "<style scoped>\n",
       "    .dataframe tbody tr th:only-of-type {\n",
       "        vertical-align: middle;\n",
       "    }\n",
       "\n",
       "    .dataframe tbody tr th {\n",
       "        vertical-align: top;\n",
       "    }\n",
       "\n",
       "    .dataframe thead th {\n",
       "        text-align: right;\n",
       "    }\n",
       "</style>\n",
       "<table border=\"1\" class=\"dataframe\">\n",
       "  <thead>\n",
       "    <tr style=\"text-align: right;\">\n",
       "      <th></th>\n",
       "      <th>A</th>\n",
       "      <th>B</th>\n",
       "      <th>C</th>\n",
       "      <th>D</th>\n",
       "    </tr>\n",
       "  </thead>\n",
       "  <tbody>\n",
       "    <tr>\n",
       "      <th>2</th>\n",
       "      <td>0.171049</td>\n",
       "      <td>0.175610</td>\n",
       "      <td>0.004500</td>\n",
       "      <td>-1.013469</td>\n",
       "    </tr>\n",
       "    <tr>\n",
       "      <th>9</th>\n",
       "      <td>0.103617</td>\n",
       "      <td>0.317530</td>\n",
       "      <td>0.185907</td>\n",
       "      <td>-1.150645</td>\n",
       "    </tr>\n",
       "    <tr>\n",
       "      <th>14</th>\n",
       "      <td>0.038800</td>\n",
       "      <td>0.226129</td>\n",
       "      <td>0.642966</td>\n",
       "      <td>-0.291351</td>\n",
       "    </tr>\n",
       "    <tr>\n",
       "      <th>16</th>\n",
       "      <td>0.178860</td>\n",
       "      <td>0.459081</td>\n",
       "      <td>0.815575</td>\n",
       "      <td>-0.343588</td>\n",
       "    </tr>\n",
       "    <tr>\n",
       "      <th>22</th>\n",
       "      <td>0.246868</td>\n",
       "      <td>0.283490</td>\n",
       "      <td>0.561827</td>\n",
       "      <td>-0.065183</td>\n",
       "    </tr>\n",
       "  </tbody>\n",
       "</table>\n",
       "</div>"
      ],
      "text/plain": [
       "           A         B         C         D\n",
       "2   0.171049  0.175610  0.004500 -1.013469\n",
       "9   0.103617  0.317530  0.185907 -1.150645\n",
       "14  0.038800  0.226129  0.642966 -0.291351\n",
       "16  0.178860  0.459081  0.815575 -0.343588\n",
       "22  0.246868  0.283490  0.561827 -0.065183"
      ]
     },
     "execution_count": 42,
     "metadata": {},
     "output_type": "execute_result"
    }
   ],
   "source": [
    "x=df[(df.A < 0.5) & (df.B < 0.5)]\n",
    "x.head()"
   ]
  },
  {
   "cell_type": "code",
   "execution_count": 43,
   "metadata": {
    "scrolled": true
   },
   "outputs": [
    {
     "data": {
      "text/html": [
       "<div>\n",
       "<style scoped>\n",
       "    .dataframe tbody tr th:only-of-type {\n",
       "        vertical-align: middle;\n",
       "    }\n",
       "\n",
       "    .dataframe tbody tr th {\n",
       "        vertical-align: top;\n",
       "    }\n",
       "\n",
       "    .dataframe thead th {\n",
       "        text-align: right;\n",
       "    }\n",
       "</style>\n",
       "<table border=\"1\" class=\"dataframe\">\n",
       "  <thead>\n",
       "    <tr style=\"text-align: right;\">\n",
       "      <th></th>\n",
       "      <th>A</th>\n",
       "      <th>B</th>\n",
       "      <th>C</th>\n",
       "      <th>D</th>\n",
       "    </tr>\n",
       "  </thead>\n",
       "  <tbody>\n",
       "    <tr>\n",
       "      <th>2</th>\n",
       "      <td>0.171049</td>\n",
       "      <td>0.175610</td>\n",
       "      <td>0.004500</td>\n",
       "      <td>-1.013469</td>\n",
       "    </tr>\n",
       "    <tr>\n",
       "      <th>9</th>\n",
       "      <td>0.103617</td>\n",
       "      <td>0.317530</td>\n",
       "      <td>0.185907</td>\n",
       "      <td>-1.150645</td>\n",
       "    </tr>\n",
       "    <tr>\n",
       "      <th>14</th>\n",
       "      <td>0.038800</td>\n",
       "      <td>0.226129</td>\n",
       "      <td>0.642966</td>\n",
       "      <td>-0.291351</td>\n",
       "    </tr>\n",
       "    <tr>\n",
       "      <th>16</th>\n",
       "      <td>0.178860</td>\n",
       "      <td>0.459081</td>\n",
       "      <td>0.815575</td>\n",
       "      <td>-0.343588</td>\n",
       "    </tr>\n",
       "    <tr>\n",
       "      <th>22</th>\n",
       "      <td>0.246868</td>\n",
       "      <td>0.283490</td>\n",
       "      <td>0.561827</td>\n",
       "      <td>-0.065183</td>\n",
       "    </tr>\n",
       "  </tbody>\n",
       "</table>\n",
       "</div>"
      ],
      "text/plain": [
       "           A         B         C         D\n",
       "2   0.171049  0.175610  0.004500 -1.013469\n",
       "9   0.103617  0.317530  0.185907 -1.150645\n",
       "14  0.038800  0.226129  0.642966 -0.291351\n",
       "16  0.178860  0.459081  0.815575 -0.343588\n",
       "22  0.246868  0.283490  0.561827 -0.065183"
      ]
     },
     "execution_count": 43,
     "metadata": {},
     "output_type": "execute_result"
    }
   ],
   "source": [
    "# is roughly equivalent\n",
    "tmp1 = df.A < 0.5\n",
    "tmp2 = df.B < 0.5\n",
    "tmp3 = tmp1 & tmp2\n",
    "x = df[tmp3]\n",
    "x.head()"
   ]
  },
  {
   "cell_type": "code",
   "execution_count": 44,
   "metadata": {},
   "outputs": [
    {
     "data": {
      "text/plain": [
       "32000"
      ]
     },
     "execution_count": 44,
     "metadata": {},
     "output_type": "execute_result"
    }
   ],
   "source": [
    "# Size of the memory\n",
    "df.values.nbytes"
   ]
  },
  {
   "cell_type": "markdown",
   "metadata": {},
   "source": [
    "On the performance side, eval() can be faster even when you are not maxing out your system memory. The issue is how your temporary DataFrames compare to the size of the L1 or L2 CPU cache on your system (typically a few megabytes in 2016); if they are much bigger, then eval() can avoid some potentially slow movement of values between the different memory caches. In practice, I find that the difference in computation time between the traditional methods and the eval/query method is usually not significant—if anything, the traditional method is faster for smaller arrays! The benefit of eval/query is mainly in the saved memory, and the sometimes cleaner syntax they offer"
   ]
  }
 ],
 "metadata": {
  "kernelspec": {
   "display_name": "Python 3",
   "language": "python",
   "name": "python3"
  },
  "language_info": {
   "codemirror_mode": {
    "name": "ipython",
    "version": 3
   },
   "file_extension": ".py",
   "mimetype": "text/x-python",
   "name": "python",
   "nbconvert_exporter": "python",
   "pygments_lexer": "ipython3",
   "version": "3.7.3"
  }
 },
 "nbformat": 4,
 "nbformat_minor": 2
}
